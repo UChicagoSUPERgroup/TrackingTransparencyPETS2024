{
 "cells": [
  {
   "cell_type": "code",
   "execution_count": 23,
   "metadata": {},
   "outputs": [],
   "source": [
    "import os\n",
    "import json"
   ]
  },
  {
   "cell_type": "code",
   "execution_count": 36,
   "metadata": {},
   "outputs": [],
   "source": [
    "interests = {}"
   ]
  },
  {
   "cell_type": "code",
   "execution_count": 50,
   "metadata": {},
   "outputs": [],
   "source": [
    "# add data from raw text file\n",
    "\n",
    "leaves = []\n",
    "\n",
    "with open('categories_2017-08-28.txt') as f:\n",
    "    lines = f.readlines()\n",
    "    for line in lines:\n",
    "        arr = line.rstrip().split('>')\n",
    "        cat = arr[-1]\n",
    "        interests[cat] = {\n",
    "            'path': arr\n",
    "        }\n",
    "        leaves.append(cat)\n",
    "\n",
    "with open('leaves.json', 'w') as f:\n",
    "  json.dump(leaves, f, ensure_ascii=False, indent=2)\n"
   ]
  },
  {
   "cell_type": "code",
   "execution_count": 61,
   "metadata": {},
   "outputs": [],
   "source": [
    "# add data from adwords impression file\n",
    "# this data was scraped from the adwords dashboard in may 2018\n",
    "\n",
    "# there are some inconsistencies between the two lists\n",
    "# so we have to substitute a few names\n",
    "subsitutions = {\n",
    "    'Bars, Clubs & Nightlife': 'Clubs & Nightlife',\n",
    "    'Event Ticket Sales': 'Ticket Sales',\n",
    "    'Brand Management': 'Marketing Services',\n",
    "    'Trade Fairs & Industry Shows': 'Trade Shows & Conventions',\n",
    "    'Self Storage': 'Public Storage',\n",
    "    'IT & Technical Jobs': 'Developer Jobs',\n",
    "    'Java (Programming Language)': 'Java',\n",
    "    'Student Loans & College Financing': 'College Financing',\n",
    "    'Financial Planning & Management': 'Financial Planning',\n",
    "    'Study Grants & Scholarships': 'Grants & Financial Assistance',\n",
    "    'Cuisines': 'World Cuisines',\n",
    "    'East Asian Cuisine': 'Asian Cuisine',\n",
    "    'Food & Grocery Retailers': 'Grocery & Food Retailers',\n",
    "    'Beverages': 'Non-Alcoholic Beverages',\n",
    "    'Ringtones & Mobile Themes': 'Ringtones & Mobile Goodies',\n",
    "    'Green Living & Environmental Issues': 'Environmental Issues',\n",
    "    'Carpooling & Vehicle Sharing': 'Carpooling & Ridesharing'\n",
    "}\n",
    "\n",
    "with open('adwords_impressions.json') as adwords_json:\n",
    "    adwords = json.load(adwords_json)\n",
    "    \n",
    "    for interest in adwords:\n",
    "        name = interest['category']\n",
    "        if (name in subsitutions):\n",
    "            name = subsitutions[name]\n",
    "        if (name not in interests):\n",
    "#             print(name + ' not in original data')\n",
    "            continue\n",
    "        interests[name]['impressions'] = interest['impression_int']"
   ]
  },
  {
   "cell_type": "code",
   "execution_count": 62,
   "metadata": {},
   "outputs": [],
   "source": [
    "# validation\n",
    "for interest in interests:\n",
    "    keys = interests[interest].keys()\n",
    "    if ('impressions' not in keys):\n",
    "        print(interest + ' is missing impressions')\n",
    "    "
   ]
  },
  {
   "cell_type": "code",
   "execution_count": 65,
   "metadata": {},
   "outputs": [],
   "source": [
    "# save master json\n",
    "with open('../src/data/interests/interests.json', 'w') as f:\n",
    "    json.dump(interests, f, ensure_ascii=False, indent=2)"
   ]
  },
  {
   "cell_type": "code",
   "execution_count": 74,
   "metadata": {},
   "outputs": [],
   "source": [
    "# make list by popularity\n",
    "by_impressions = sorted(interests, key=lambda inter: interests[inter]['impressions'], reverse=True)\n",
    "with open('../src/data/interests/by_impressions.json', 'w') as f:\n",
    "    json.dump(by_impressions, f, ensure_ascii=False, indent=2)"
   ]
  }
 ],
 "metadata": {
  "kernelspec": {
   "display_name": "Python 3",
   "language": "python",
   "name": "python3"
  },
  "language_info": {
   "codemirror_mode": {
    "name": "ipython",
    "version": 3
   },
   "file_extension": ".py",
   "mimetype": "text/x-python",
   "name": "python",
   "nbconvert_exporter": "python",
   "pygments_lexer": "ipython3",
   "version": "3.6.5"
  }
 },
 "nbformat": 4,
 "nbformat_minor": 2
}
